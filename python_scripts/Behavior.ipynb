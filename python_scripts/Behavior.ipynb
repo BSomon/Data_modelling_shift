{
 "cells": [
  {
   "cell_type": "markdown",
   "metadata": {},
   "source": [
    "# Visual Dominance Index and baseline task analyses"
   ]
  },
  {
   "cell_type": "markdown",
   "metadata": {},
   "source": [
    "This script intends to perform behavioral analyses (Repeated measures ANOVA with post-hocs) on data recorded as part of the experiment \"Modeling Shift from Efficient to Inefficient divided attention\" (CER 2020-322)."
   ]
  },
  {
   "cell_type": "code",
   "execution_count": 3,
   "metadata": {},
   "outputs": [],
   "source": [
    "import os\n",
    "\n",
    "from pprint import pprint\n",
    "from statistics import mean\n",
    "\n",
    "import pandas as pd\n",
    "import numpy as np\n",
    "import scipy.io as sio\n",
    "import matplotlib.pyplot as plt\n",
    "import seaborn as sns\n",
    "import pingouin as pg\n",
    "%matplotlib inline"
   ]
  },
  {
   "cell_type": "code",
   "execution_count": 30,
   "metadata": {},
   "outputs": [],
   "source": [
    "## Paths\n",
    "main_path = \"/home/dcas/j.torre-tresols/data/EEG/data_shift\"  # Path to change\n",
    "behavior_path = os.path.join(main_path, \"behavioral\")"
   ]
  },
  {
   "cell_type": "code",
   "execution_count": 31,
   "metadata": {
    "scrolled": true
   },
   "outputs": [],
   "source": [
    "# Load file\n",
    "acc_rt_path = os.path.join(behavior_path, \"Acc_RT_all.mat\")\n",
    "\n",
    "# Process mat file into DataFrame\n",
    "mat = sio.loadmat(acc_rt_path)\n",
    "mat_dict = {key: np.array(value).flatten('F') for key, value in mat.items() if '__' not in key}\n",
    "acc_rt_df = pd.DataFrame(mat_dict)\n",
    "\n",
    "# Df variables\n",
    "n_sub = len(acc_rt_df) // 11\n",
    "variables = ['ACC_AS', 'ACC_VS', 'ACC_AV', 'ACC_VA', 'RT_AS', 'RT_VS', 'RT_AV', 'RT_VA', 'VDI_SINGLE', 'VDI_DOUBLE']\n",
    "modalities = ['AUDIO', 'VISUAL', 'AUDIO', 'VISUAL', 'AUDIO', 'VISUAL', 'AUDIO', 'VISUAL', 'VDI', 'VDI']\n",
    "tasks = ['SINGLE', 'SINGLE', 'DOUBLE', 'DOUBLE', 'SINGLE', 'SINGLE', 'DOUBLE', 'DOUBLE', 'SINGLE', 'DOUBLE']\n",
    "\n",
    "ids = list(range(1, n_sub + 1)) * len(variables)\n",
    "var_list = []\n",
    "mod_list = []\n",
    "task_list = []\n",
    "for var, mod, task in zip(variables, modalities, tasks):\n",
    "    var_list.extend([var] * n_sub)\n",
    "    mod_list.extend([mod] * n_sub)\n",
    "    task_list.extend([task] * n_sub)\n",
    "\n",
    "# Df modification\n",
    "acc_rt_df = acc_rt_df[n_sub:]  ## Removing the first n_sub rows (??)\n",
    "acc_rt_df.reset_index(drop = True, inplace=True)\n",
    "\n",
    "acc_rt_df['id'] = ids\n",
    "acc_rt_df['var'] = var_list\n",
    "acc_rt_df['modality'] = mod_list\n",
    "acc_rt_df['task'] = task_list"
   ]
  },
  {
   "cell_type": "code",
   "execution_count": 32,
   "metadata": {},
   "outputs": [],
   "source": [
    "# Split the df in ACCuracies, Reaction Times and Visual Dominance Index\n",
    "df_acc = acc_rt_df.iloc[:n_sub * 4]\n",
    "df_rt = acc_rt_df.iloc[n_sub * 4:2 * n_sub * 4]\n",
    "df_vdi = acc_rt_df.iloc[2 * n_sub * 4:]"
   ]
  },
  {
   "cell_type": "code",
   "execution_count": 33,
   "metadata": {},
   "outputs": [
    {
     "data": {
      "text/plain": [
       "Text(0.5, 1.0, 'Reaction times across participants')"
      ]
     },
     "execution_count": 33,
     "metadata": {},
     "output_type": "execute_result"
    },
    {
     "data": {
      "image/png": "[encoded data removed]",
      "text/plain": [
       "<Figure size 432x288 with 2 Axes>"
      ]
     },
     "metadata": {
      "needs_background": "light"
     },
     "output_type": "display_data"
    }
   ],
   "source": [
    "# BOXPLOTS\n",
    "fig, axes = plt.subplots(1, 2)\n",
    "plt_acc = sns.boxplot(ax = axes[0], x='var', y = 'Behavior_subj', data = df_acc, order = ['ACC_VS', 'ACC_AS', 'ACC_VA', 'ACC_AV'], palette = \"Set2\")\n",
    "plt_acc.set_xticklabels(['Visual Single', 'Audio Single', 'Visual Dual', 'Audio Dual'])\n",
    "plt_acc.set_xlabel('Task')\n",
    "plt_acc.set_ylabel('Accuracy (%)')\n",
    "plt_acc.set_title('Accuracy across participants')\n",
    "\n",
    "plt_rt =  sns.boxplot(ax = axes[1], x='var', y = 'Behavior_subj', data = df_rt, order = ['RT_VS', 'RT_AS', 'RT_VA', 'RT_AV'], palette = \"Set2\")\n",
    "plt_rt.set_xticklabels(['Visual Single', 'Audio Single', 'Visual Dual', 'Audio Dual'])\n",
    "plt_rt.set_xlabel('Task')\n",
    "plt_rt.set_ylabel('Reaction time (s)')\n",
    "plt_rt.set_title('Reaction times across participants')"
   ]
  },
  {
   "cell_type": "code",
   "execution_count": 34,
   "metadata": {},
   "outputs": [
    {
     "name": "stdout",
     "output_type": "stream",
     "text": [
      "ANOVA ACC\n",
      "            Source          SS  ddof1  ddof2          MS          F     p-unc  \\\n",
      "0             task  567.129630      1     23  567.129630  31.598131  0.000010   \n",
      "1         modality  464.248971      1     23  464.248971  19.000000  0.000230   \n",
      "2  task * modality  217.335391      1     23  217.335391  11.398827  0.002604   \n",
      "\n",
      "   p-GG-corr       np2  eps  \n",
      "0   0.000010  0.578740  1.0  \n",
      "1   0.000230  0.452381  1.0  \n",
      "2   0.002604  0.331373  1.0  \n",
      "\n",
      "ANOVA RT\n",
      "            Source        SS  ddof1  ddof2        MS           F  \\\n",
      "0             task  0.041608      1     23  0.041608   24.562954   \n",
      "1         modality  0.425113      1     23  0.425113  146.432957   \n",
      "2  task * modality  0.000775      1     23  0.000775    0.332239   \n",
      "\n",
      "          p-unc     p-GG-corr       np2  eps  \n",
      "0  5.200807e-05  5.200807e-05  0.516430  1.0  \n",
      "1  1.869564e-11  1.869564e-11  0.864253  1.0  \n",
      "2  5.699419e-01  5.699419e-01  0.014239  1.0  \n",
      "\n",
      "ANOVA_VDI\n",
      "  Contrast       A       B  Paired  Parametric         T   dof alternative  \\\n",
      "0     task  DOUBLE  SINGLE    True        True -0.576402  23.0   two-sided   \n",
      "\n",
      "      p-unc  BF10    hedges  \n",
      "0  0.569942  0.25 -0.154465  \n",
      "\n"
     ]
    }
   ],
   "source": [
    "# ANOVA\n",
    "res_acc = pg.rm_anova(dv='Behavior_subj', within=['task', 'modality'], subject='id', \n",
    "                      data=df_acc, detailed=True)\n",
    "res_rt = pg.rm_anova(dv='Behavior_subj', within=['task', 'modality'], subject='id', \n",
    "                     data=df_rt, detailed=True)\n",
    "res_vdi = pg.pairwise_ttests(dv='Behavior_subj', within='task', subject='id', \n",
    "                             padjust='bonf', data=df_vdi)\n",
    "print(\"ANOVA ACC\")\n",
    "print(res_acc)\n",
    "print(\"\")\n",
    "\n",
    "print(\"ANOVA RT\")\n",
    "print(res_rt)\n",
    "print(\"\")\n",
    "\n",
    "print(\"ANOVA_VDI\")\n",
    "print(res_vdi)\n",
    "print(\"\")"
   ]
  },
  {
   "cell_type": "code",
   "execution_count": 10,
   "metadata": {},
   "outputs": [
    {
     "name": "stdout",
     "output_type": "stream",
     "text": [
      "          Contrast modality       A       B    mean(A)    std(A)    mean(B)  \\\n",
      "0         modality        -   AUDIO  VISUAL  93.518519  5.255589  97.916667   \n",
      "1             task        -  DOUBLE  SINGLE  93.287037  5.126334  98.148148   \n",
      "2  modality * task    AUDIO  DOUBLE  SINGLE  89.583333  9.056763  97.453704   \n",
      "3  modality * task   VISUAL  DOUBLE  SINGLE  96.990741  3.267944  98.842593   \n",
      "\n",
      "     std(B) Paired  Parametric         T   dof alternative     p-unc  \\\n",
      "0  2.422995   True        True -4.358899  23.0   two-sided  0.000230   \n",
      "1  1.992449   True        True -5.621221  23.0   two-sided  0.000010   \n",
      "2  2.706410   True        True -4.668345  23.0   two-sided  0.000106   \n",
      "3  1.992449   True        True -3.762160  23.0   two-sided  0.001014   \n",
      "\n",
      "     p-corr p-adjust      BF10  eta-square  \n",
      "0       NaN      NaN   128.456    0.224072  \n",
      "1       NaN      NaN  2146.208    0.280884  \n",
      "2  0.000213     bonf    256.01    0.257406  \n",
      "3  0.002027     bonf    34.658    0.104784  \n",
      "          Contrast    task       A       B   mean(A)    std(A)   mean(B)  \\\n",
      "0             task       -  DOUBLE  SINGLE  0.395897  0.056757  0.354260   \n",
      "1         modality       -   AUDIO  VISUAL  0.441624  0.063153  0.308533   \n",
      "2  task * modality  DOUBLE   AUDIO  VISUAL  0.459602  0.084862  0.332193   \n",
      "3  task * modality  SINGLE   AUDIO  VISUAL  0.423646  0.060599  0.284874   \n",
      "\n",
      "     std(B) Paired  Parametric          T   dof alternative         p-unc  \\\n",
      "0  0.035579   True        True   4.956103  23.0   two-sided  5.200807e-05   \n",
      "1  0.033219   True        True  12.100949  23.0   two-sided  1.869564e-11   \n",
      "2  0.054502   True        True   7.227398  23.0   two-sided  2.340161e-07   \n",
      "3  0.019092   True        True  12.391185  23.0   two-sided  1.162071e-11   \n",
      "\n",
      "         p-corr p-adjust       BF10  eta-square  \n",
      "0           NaN      NaN    487.196    0.161902  \n",
      "1           NaN      NaN  4.697e+08    0.634951  \n",
      "2  4.680322e-07     bonf  6.842e+04    0.443806  \n",
      "3  2.324143e-11     bonf  7.359e+08    0.704601  \n"
     ]
    }
   ],
   "source": [
    "# POST-HOCS\n",
    "post_hoc_acc = pg.pairwise_ttests(dv='Behavior_subj', within=['modality','task'], subject='id', \n",
    "                                  padjust='bonf', effsize='eta-square', data=df_acc, \n",
    "                                  return_desc=True, interaction=True)\n",
    "post_hoc_rt = pg.pairwise_ttests(dv='Behavior_subj', within=['task','modality'], subject='id', \n",
    "                                 padjust='bonf', effsize='eta-square', data=df_rt, \n",
    "                                 return_desc=True, interaction=True)\n",
    "\n",
    "print(\"POST-HOC Accuracy\")\n",
    "print(post_hoc_acc)\n",
    "print(\"\")\n",
    "\n",
    "print(\"POST-HOC Reaction Time\")\n",
    "print(post_hoc_rt)\n",
    "print(\"\")"
   ]
  },
  {
   "cell_type": "markdown",
   "metadata": {},
   "source": [
    "# AudioVisual switching task analysis"
   ]
  },
  {
   "cell_type": "code",
   "execution_count": 27,
   "metadata": {},
   "outputs": [],
   "source": [
    "# File paths\n",
    "rt_file_path = os.path.join(behavior_path, 'RT_All.csv')\n",
    "acc_file_path = os.path.join(behavior_path, 'Acc_All.csv')\n",
    "\n",
    "# Variable dictionary. The keys represent the number codes for the variables, and the values represent the modality and task, respectively\n",
    "var_dict = {1: ('VISUAL', 'SINGLE'), 2: ('AUDIO', 'SINGLE'), \n",
    "            3: ('VISUAL', 'SWITCH'), 4: ('AUDIO', 'SWITCH')}\n",
    "\n",
    "# Open DFs\n",
    "rt_df = pd.read_csv(rt_file_path, header=None, names=['RT', 'id', 'var', 'modality', 'task'])\n",
    "acc_df = pd.read_csv(acc_file_path, header=None, names=['Acc', 'id', 'var', 'modality', 'task'])\n",
    "\n",
    "for var, values in var_dict.items():\n",
    "    rt_df.loc[rt_df['var'] == var, 'modality'] = values[0]\n",
    "    rt_df.loc[rt_df['var'] == var, 'task'] = values[1]\n",
    "    \n",
    "    acc_df.loc[acc_df['var'] == var, 'modality'] = values[0]\n",
    "    acc_df.loc[acc_df['var'] == var, 'task'] = values[1]",
    "\n",
    "mrt_df = rt_df.copy()\n",
    "mrt_df.drop_duplicates(subset=['id', 'var'], inplace = True)\n",
    "mrt_df.reset_index(drop = True, inplace = True)\n",
    "\n",
    "for var, ids in zip(var_dict.keys(), pd.unique(mrt_df['id'])):\n",
    "    mrt_df.loc[(mrt_df['id'] == ids) & (mrt_df['var'] == var), 'RT'] = mean(rt_df.loc[(rt_df['var']==var) & (rt_df['id'] == ids),'RT'])\n"
   ]
  },
  {
   "cell_type": "code",
   "execution_count": 28,
   "metadata": {},
   "outputs": [
    {
     "data": {
      "text/plain": [
       "Text(0.5, 1.0, 'Reaction times across participants')"
      ]
     },
     "execution_count": 28,
     "metadata": {},
     "output_type": "execute_result"
    },
    {
     "data": {
      "image/png": "[encoded data removed]",
      "text/plain": [
       "<Figure size 432x288 with 2 Axes>"
      ]
     },
     "metadata": {
      "needs_background": "light"
     },
     "output_type": "display_data"
    }
   ],
   "source": [
    "# BOXPLOTS\n",
    "fig2, axes2 = plt.subplots(1, 2)\n",
    "\n",
    "plt_acc = sns.boxplot(ax=axes2[0], x='var', y = 'Acc', data=acc_df,  order = [1,2,3,4], palette=\"Set2\")\n",
    "plt_acc.set_xticklabels(['Visual Single', 'Audio Single', 'Visual switch', 'Audio switch'])\n",
    "plt_acc.set_xlabel('Task')\n",
    "plt_acc.set_ylabel('Accuracy (%)')\n",
    "plt_acc.set_title('Accuracy across participants')\n",
    "\n",
    "plt_rt =  sns.boxplot(ax=axes2[1], x='var', y='RT', data=mrt_df, order = [1,2,3,4], palette=\"Set2\")\n",
    "plt_rt.set_xticklabels(['Visual Single', 'Audio Single', 'Visual switch', 'Audio switch'])\n",
    "plt_rt.set_xlabel('Task')\n",
    "plt_rt.set_ylabel('Reaction time (s)')\n",
    "plt_rt.set_title('Reaction times across participants')"
   ]
  },
  {
   "cell_type": "code",
   "execution_count": 35,
   "metadata": {},
   "outputs": [
    {
     "name": "stdout",
     "output_type": "stream",
     "text": [
      "ANOVA ACC\n",
      "            Source        SS  ddof1  ddof2        MS           F  \\\n",
      "0             task  3.526088      1     23  3.526088  503.705486   \n",
      "1         modality  0.147112      1     23  0.147112   24.345244   \n",
      "2  task * modality  0.059571      1     23  0.059571   13.193782   \n",
      "\n",
      "          p-unc     p-GG-corr       np2  eps  \n",
      "0  3.864583e-17  3.864583e-17  0.956332  1.0  \n",
      "1  5.492827e-05  5.492827e-05  0.514207  1.0  \n",
      "2  1.394999e-03  1.394999e-03  0.364532  1.0  \n",
      "\n",
      "ANOVA RT\n",
      "            Source        SS  ddof1  ddof2        MS           F  \\\n",
      "0             task  3.526088      1     23  3.526088  503.705486   \n",
      "1         modality  0.147112      1     23  0.147112   24.345244   \n",
      "2  task * modality  0.059571      1     23  0.059571   13.193782   \n",
      "\n",
      "          p-unc     p-GG-corr       np2  eps  \n",
      "0  3.864583e-17  3.864583e-17  0.956332  1.0  \n",
      "1  5.492827e-05  5.492827e-05  0.514207  1.0  \n",
      "2  1.394999e-03  1.394999e-03  0.364532  1.0  \n",
      "\n"
     ]
    }
   ],
   "source": [
    "#ANOVA\n",
    "res_acc = pg.rm_anova(dv='Acc', within=['task', 'modality'], subject='id', \n",
    "                      data=acc_df, detailed=True)\n",
    "res_rt = pg.rm_anova(dv='RT', within=['task', 'modality'], subject='id', \n",
    "                     data=mrt_df, detailed=True)\n",
    "\n",
    "print(\"ANOVA ACC\")\n",
    "print(res_acc)\n",
    "print(\"\")\n",
    "\n",
    "print(\"ANOVA RT\")\n",
    "print(res_rt)\n",
    "print(\"\")"
   ]
  },
  {
   "cell_type": "code",
   "execution_count": null,
   "metadata": {},
   "outputs": [],
   "source": []
  }
 ],
 "metadata": {
  "kernelspec": {
   "display_name": "Python 3",
   "language": "python",
   "name": "python3"
  },
  "language_info": {
   "codemirror_mode": {
    "name": "ipython",
    "version": 3
   },
   "file_extension": ".py",
   "mimetype": "text/x-python",
   "name": "python",
   "nbconvert_exporter": "python",
   "pygments_lexer": "ipython3",
   "version": "3.7.7"
  }
 },
 "nbformat": 4,
 "nbformat_minor": 4
}
